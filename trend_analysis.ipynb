{
 "cells": [
  {
   "cell_type": "code",
   "execution_count": 1,
   "metadata": {
    "id": "1H2SyH69fh8F"
   },
   "outputs": [],
   "source": [
    "from pathlib import Path\n",
    "from datetime import datetime, timedelta\n",
    "import pandas as pd\n",
    "import numpy as np\n",
    "import matplotlib.pyplot as plt\n",
    "import japanize_matplotlib\n",
    "plt.style.use('ggplot')\n",
    "plt.rcParams['figure.figsize'] = [12, 9]"
   ]
  },
  {
   "cell_type": "code",
   "execution_count": 2,
   "metadata": {
    "colab": {
     "base_uri": "https://localhost:8080/",
     "height": 441
    },
    "id": "qNJg1ag9fh8H",
    "outputId": "7545290e-839f-4a78-9576-b1a2e0aefaf9"
   },
   "outputs": [
    {
     "data": {
      "text/html": [
       "<div>\n",
       "<style scoped>\n",
       "    .dataframe tbody tr th:only-of-type {\n",
       "        vertical-align: middle;\n",
       "    }\n",
       "\n",
       "    .dataframe tbody tr th {\n",
       "        vertical-align: top;\n",
       "    }\n",
       "\n",
       "    .dataframe thead th {\n",
       "        text-align: right;\n",
       "    }\n",
       "</style>\n",
       "<table border=\"1\" class=\"dataframe\">\n",
       "  <thead>\n",
       "    <tr style=\"text-align: right;\">\n",
       "      <th>kind</th>\n",
       "      <th>date</th>\n",
       "      <th>かぼちゃ</th>\n",
       "      <th>きゅうり</th>\n",
       "      <th>さといも</th>\n",
       "      <th>たまねぎ</th>\n",
       "      <th>だいこん</th>\n",
       "      <th>なましいたけ</th>\n",
       "      <th>にんじん</th>\n",
       "      <th>ねぎ</th>\n",
       "      <th>はくさい</th>\n",
       "      <th>ほうれんそう</th>\n",
       "      <th>キャベツ</th>\n",
       "      <th>トマト</th>\n",
       "      <th>ピーマン</th>\n",
       "      <th>ミニトマト</th>\n",
       "      <th>レタス</th>\n",
       "    </tr>\n",
       "  </thead>\n",
       "  <tbody>\n",
       "    <tr>\n",
       "      <th>0</th>\n",
       "      <td>20160105</td>\n",
       "      <td>NaN</td>\n",
       "      <td>1620.0</td>\n",
       "      <td>4104.0</td>\n",
       "      <td>1512.0</td>\n",
       "      <td>648.0</td>\n",
       "      <td>194.0</td>\n",
       "      <td>1404.0</td>\n",
       "      <td>3024.0</td>\n",
       "      <td>864.0</td>\n",
       "      <td>97.0</td>\n",
       "      <td>432.0</td>\n",
       "      <td>1512.0</td>\n",
       "      <td>86.25</td>\n",
       "      <td>210.5</td>\n",
       "      <td>2700.0</td>\n",
       "    </tr>\n",
       "    <tr>\n",
       "      <th>1</th>\n",
       "      <td>20160106</td>\n",
       "      <td>NaN</td>\n",
       "      <td>1620.0</td>\n",
       "      <td>4104.0</td>\n",
       "      <td>2160.0</td>\n",
       "      <td>594.0</td>\n",
       "      <td>173.0</td>\n",
       "      <td>1404.0</td>\n",
       "      <td>1512.0</td>\n",
       "      <td>918.0</td>\n",
       "      <td>86.5</td>\n",
       "      <td>432.0</td>\n",
       "      <td>1620.0</td>\n",
       "      <td>81.00</td>\n",
       "      <td>173.0</td>\n",
       "      <td>3024.0</td>\n",
       "    </tr>\n",
       "    <tr>\n",
       "      <th>2</th>\n",
       "      <td>20160107</td>\n",
       "      <td>NaN</td>\n",
       "      <td>1728.0</td>\n",
       "      <td>3780.0</td>\n",
       "      <td>2160.0</td>\n",
       "      <td>648.0</td>\n",
       "      <td>173.0</td>\n",
       "      <td>648.0</td>\n",
       "      <td>1620.0</td>\n",
       "      <td>810.0</td>\n",
       "      <td>86.5</td>\n",
       "      <td>432.0</td>\n",
       "      <td>1620.0</td>\n",
       "      <td>91.50</td>\n",
       "      <td>167.5</td>\n",
       "      <td>3348.0</td>\n",
       "    </tr>\n",
       "    <tr>\n",
       "      <th>3</th>\n",
       "      <td>20160108</td>\n",
       "      <td>NaN</td>\n",
       "      <td>1836.0</td>\n",
       "      <td>3915.0</td>\n",
       "      <td>2160.0</td>\n",
       "      <td>486.0</td>\n",
       "      <td>173.0</td>\n",
       "      <td>972.0</td>\n",
       "      <td>3024.0</td>\n",
       "      <td>972.0</td>\n",
       "      <td>86.5</td>\n",
       "      <td>432.0</td>\n",
       "      <td>1620.0</td>\n",
       "      <td>91.50</td>\n",
       "      <td>167.5</td>\n",
       "      <td>3456.0</td>\n",
       "    </tr>\n",
       "    <tr>\n",
       "      <th>4</th>\n",
       "      <td>20160109</td>\n",
       "      <td>NaN</td>\n",
       "      <td>1836.0</td>\n",
       "      <td>3672.0</td>\n",
       "      <td>2160.0</td>\n",
       "      <td>432.0</td>\n",
       "      <td>173.0</td>\n",
       "      <td>1296.0</td>\n",
       "      <td>1728.0</td>\n",
       "      <td>918.0</td>\n",
       "      <td>81.0</td>\n",
       "      <td>864.0</td>\n",
       "      <td>1620.0</td>\n",
       "      <td>86.00</td>\n",
       "      <td>194.5</td>\n",
       "      <td>3456.0</td>\n",
       "    </tr>\n",
       "  </tbody>\n",
       "</table>\n",
       "</div>"
      ],
      "text/plain": [
       "kind      date  かぼちゃ    きゅうり    さといも    たまねぎ   だいこん  なましいたけ    にんじん      ねぎ  \\\n",
       "0     20160105   NaN  1620.0  4104.0  1512.0  648.0   194.0  1404.0  3024.0   \n",
       "1     20160106   NaN  1620.0  4104.0  2160.0  594.0   173.0  1404.0  1512.0   \n",
       "2     20160107   NaN  1728.0  3780.0  2160.0  648.0   173.0   648.0  1620.0   \n",
       "3     20160108   NaN  1836.0  3915.0  2160.0  486.0   173.0   972.0  3024.0   \n",
       "4     20160109   NaN  1836.0  3672.0  2160.0  432.0   173.0  1296.0  1728.0   \n",
       "\n",
       "kind   はくさい  ほうれんそう   キャベツ     トマト   ピーマン  ミニトマト     レタス  \n",
       "0     864.0    97.0  432.0  1512.0  86.25  210.5  2700.0  \n",
       "1     918.0    86.5  432.0  1620.0  81.00  173.0  3024.0  \n",
       "2     810.0    86.5  432.0  1620.0  91.50  167.5  3348.0  \n",
       "3     972.0    86.5  432.0  1620.0  91.50  167.5  3456.0  \n",
       "4     918.0    81.0  864.0  1620.0  86.00  194.5  3456.0  "
      ]
     },
     "execution_count": 2,
     "metadata": {},
     "output_type": "execute_result"
    }
   ],
   "source": [
    "train_df = pd.read_csv('data/train.csv')\n",
    "test_df = pd.read_csv('data/test.csv')\n",
    "\n",
    "# テストデータにない野菜を訓練データから除去\n",
    "kinds = test_df['kind'].unique()\n",
    "train_df = train_df[train_df['kind'].isin(kinds)]\n",
    "\n",
    "vis_df = train_df.copy()\n",
    "# vis_df = vis_df.query('20181101 <= date <= 20221031').reset_index(drop=True)\n",
    "vis_df = vis_df.query('20160101 <= date <= 20211231').reset_index(drop=True)\n",
    "# vis_df = vis_df.query('20060101 <= date <= 20211231').reset_index(drop=True)\n",
    "\n",
    "vis_df = pd.pivot_table(vis_df, index='date', columns='kind', values='mode_price').reset_index()\n",
    "vis_df.head()"
   ]
  },
  {
   "cell_type": "code",
   "execution_count": 3,
   "metadata": {},
   "outputs": [
    {
     "data": {
      "text/html": [
       "<div>\n",
       "<style scoped>\n",
       "    .dataframe tbody tr th:only-of-type {\n",
       "        vertical-align: middle;\n",
       "    }\n",
       "\n",
       "    .dataframe tbody tr th {\n",
       "        vertical-align: top;\n",
       "    }\n",
       "\n",
       "    .dataframe thead th {\n",
       "        text-align: right;\n",
       "    }\n",
       "</style>\n",
       "<table border=\"1\" class=\"dataframe\">\n",
       "  <thead>\n",
       "    <tr style=\"text-align: right;\">\n",
       "      <th>kind</th>\n",
       "      <th>かぼちゃ</th>\n",
       "      <th>きゅうり</th>\n",
       "      <th>さといも</th>\n",
       "      <th>たまねぎ</th>\n",
       "      <th>だいこん</th>\n",
       "      <th>なましいたけ</th>\n",
       "      <th>にんじん</th>\n",
       "      <th>ねぎ</th>\n",
       "      <th>はくさい</th>\n",
       "      <th>ほうれんそう</th>\n",
       "      <th>キャベツ</th>\n",
       "      <th>トマト</th>\n",
       "      <th>ピーマン</th>\n",
       "      <th>ミニトマト</th>\n",
       "      <th>レタス</th>\n",
       "    </tr>\n",
       "  </thead>\n",
       "  <tbody>\n",
       "    <tr>\n",
       "      <th>2016_1</th>\n",
       "      <td>0.000000</td>\n",
       "      <td>2316.600000</td>\n",
       "      <td>3087.450000</td>\n",
       "      <td>2008.800000</td>\n",
       "      <td>604.800000</td>\n",
       "      <td>172.900000</td>\n",
       "      <td>936.225000</td>\n",
       "      <td>1722.600000</td>\n",
       "      <td>955.800000</td>\n",
       "      <td>111.825000</td>\n",
       "      <td>669.600000</td>\n",
       "      <td>1890.000000</td>\n",
       "      <td>98.000000</td>\n",
       "      <td>184.975000</td>\n",
       "      <td>2797.200000</td>\n",
       "    </tr>\n",
       "    <tr>\n",
       "      <th>2016_2</th>\n",
       "      <td>0.000000</td>\n",
       "      <td>2273.142857</td>\n",
       "      <td>3479.142857</td>\n",
       "      <td>1887.428571</td>\n",
       "      <td>900.000000</td>\n",
       "      <td>181.238095</td>\n",
       "      <td>1068.428571</td>\n",
       "      <td>1517.142857</td>\n",
       "      <td>1144.285714</td>\n",
       "      <td>110.738095</td>\n",
       "      <td>709.714286</td>\n",
       "      <td>1774.285714</td>\n",
       "      <td>123.071429</td>\n",
       "      <td>211.904762</td>\n",
       "      <td>2967.428571</td>\n",
       "    </tr>\n",
       "    <tr>\n",
       "      <th>2016_3</th>\n",
       "      <td>3845.739130</td>\n",
       "      <td>1723.304348</td>\n",
       "      <td>3573.391304</td>\n",
       "      <td>1610.608696</td>\n",
       "      <td>1044.782609</td>\n",
       "      <td>167.739130</td>\n",
       "      <td>1206.782609</td>\n",
       "      <td>1742.086957</td>\n",
       "      <td>1580.086957</td>\n",
       "      <td>117.217391</td>\n",
       "      <td>995.478261</td>\n",
       "      <td>1976.869565</td>\n",
       "      <td>105.739130</td>\n",
       "      <td>213.413043</td>\n",
       "      <td>2582.608696</td>\n",
       "    </tr>\n",
       "    <tr>\n",
       "      <th>2016_4</th>\n",
       "      <td>4289.318182</td>\n",
       "      <td>1315.636364</td>\n",
       "      <td>0.000000</td>\n",
       "      <td>1627.363636</td>\n",
       "      <td>1072.636364</td>\n",
       "      <td>159.772727</td>\n",
       "      <td>1691.181818</td>\n",
       "      <td>2133.000000</td>\n",
       "      <td>1470.272727</td>\n",
       "      <td>107.454545</td>\n",
       "      <td>1207.636364</td>\n",
       "      <td>1610.181818</td>\n",
       "      <td>73.363636</td>\n",
       "      <td>156.318182</td>\n",
       "      <td>1865.454545</td>\n",
       "    </tr>\n",
       "    <tr>\n",
       "      <th>2016_5</th>\n",
       "      <td>1661.142857</td>\n",
       "      <td>1249.714286</td>\n",
       "      <td>0.000000</td>\n",
       "      <td>2100.857143</td>\n",
       "      <td>972.000000</td>\n",
       "      <td>159.952381</td>\n",
       "      <td>2008.285714</td>\n",
       "      <td>2489.142857</td>\n",
       "      <td>984.857143</td>\n",
       "      <td>88.190476</td>\n",
       "      <td>1018.285714</td>\n",
       "      <td>1234.285714</td>\n",
       "      <td>65.416667</td>\n",
       "      <td>126.630952</td>\n",
       "      <td>1483.714286</td>\n",
       "    </tr>\n",
       "    <tr>\n",
       "      <th>...</th>\n",
       "      <td>...</td>\n",
       "      <td>...</td>\n",
       "      <td>...</td>\n",
       "      <td>...</td>\n",
       "      <td>...</td>\n",
       "      <td>...</td>\n",
       "      <td>...</td>\n",
       "      <td>...</td>\n",
       "      <td>...</td>\n",
       "      <td>...</td>\n",
       "      <td>...</td>\n",
       "      <td>...</td>\n",
       "      <td>...</td>\n",
       "      <td>...</td>\n",
       "      <td>...</td>\n",
       "    </tr>\n",
       "    <tr>\n",
       "      <th>2021_8</th>\n",
       "      <td>1738.800000</td>\n",
       "      <td>1765.800000</td>\n",
       "      <td>0.000000</td>\n",
       "      <td>2959.200000</td>\n",
       "      <td>958.500000</td>\n",
       "      <td>0.000000</td>\n",
       "      <td>1145.475000</td>\n",
       "      <td>1115.100000</td>\n",
       "      <td>1225.800000</td>\n",
       "      <td>165.700000</td>\n",
       "      <td>869.400000</td>\n",
       "      <td>1323.000000</td>\n",
       "      <td>69.700000</td>\n",
       "      <td>123.875000</td>\n",
       "      <td>1368.900000</td>\n",
       "    </tr>\n",
       "    <tr>\n",
       "      <th>2021_9</th>\n",
       "      <td>1486.350000</td>\n",
       "      <td>1976.400000</td>\n",
       "      <td>3849.882353</td>\n",
       "      <td>3078.000000</td>\n",
       "      <td>1090.800000</td>\n",
       "      <td>113.625000</td>\n",
       "      <td>940.950000</td>\n",
       "      <td>1532.250000</td>\n",
       "      <td>2143.800000</td>\n",
       "      <td>167.950000</td>\n",
       "      <td>1144.800000</td>\n",
       "      <td>2008.800000</td>\n",
       "      <td>84.900000</td>\n",
       "      <td>211.450000</td>\n",
       "      <td>2748.600000</td>\n",
       "    </tr>\n",
       "    <tr>\n",
       "      <th>2021_10</th>\n",
       "      <td>1350.000000</td>\n",
       "      <td>1497.272727</td>\n",
       "      <td>3107.454545</td>\n",
       "      <td>3465.818182</td>\n",
       "      <td>945.000000</td>\n",
       "      <td>112.977273</td>\n",
       "      <td>697.704545</td>\n",
       "      <td>1485.000000</td>\n",
       "      <td>866.454545</td>\n",
       "      <td>101.500000</td>\n",
       "      <td>800.181818</td>\n",
       "      <td>1580.727273</td>\n",
       "      <td>57.363636</td>\n",
       "      <td>137.500000</td>\n",
       "      <td>1098.409091</td>\n",
       "    </tr>\n",
       "    <tr>\n",
       "      <th>2021_11</th>\n",
       "      <td>1514.454545</td>\n",
       "      <td>1512.000000</td>\n",
       "      <td>2577.272727</td>\n",
       "      <td>4899.272727</td>\n",
       "      <td>648.000000</td>\n",
       "      <td>106.500000</td>\n",
       "      <td>967.090909</td>\n",
       "      <td>967.090909</td>\n",
       "      <td>589.090909</td>\n",
       "      <td>76.090909</td>\n",
       "      <td>687.272727</td>\n",
       "      <td>2160.000000</td>\n",
       "      <td>61.295455</td>\n",
       "      <td>144.068182</td>\n",
       "      <td>1281.272727</td>\n",
       "    </tr>\n",
       "    <tr>\n",
       "      <th>2021_12</th>\n",
       "      <td>2403.000000</td>\n",
       "      <td>1733.142857</td>\n",
       "      <td>2953.285714</td>\n",
       "      <td>5117.142857</td>\n",
       "      <td>630.000000</td>\n",
       "      <td>107.880952</td>\n",
       "      <td>1009.928571</td>\n",
       "      <td>1265.142857</td>\n",
       "      <td>657.000000</td>\n",
       "      <td>89.369048</td>\n",
       "      <td>563.142857</td>\n",
       "      <td>1650.857143</td>\n",
       "      <td>64.904762</td>\n",
       "      <td>143.035714</td>\n",
       "      <td>1923.428571</td>\n",
       "    </tr>\n",
       "  </tbody>\n",
       "</table>\n",
       "<p>72 rows × 15 columns</p>\n",
       "</div>"
      ],
      "text/plain": [
       "kind            かぼちゃ         きゅうり         さといも         たまねぎ         だいこん  \\\n",
       "2016_1      0.000000  2316.600000  3087.450000  2008.800000   604.800000   \n",
       "2016_2      0.000000  2273.142857  3479.142857  1887.428571   900.000000   \n",
       "2016_3   3845.739130  1723.304348  3573.391304  1610.608696  1044.782609   \n",
       "2016_4   4289.318182  1315.636364     0.000000  1627.363636  1072.636364   \n",
       "2016_5   1661.142857  1249.714286     0.000000  2100.857143   972.000000   \n",
       "...              ...          ...          ...          ...          ...   \n",
       "2021_8   1738.800000  1765.800000     0.000000  2959.200000   958.500000   \n",
       "2021_9   1486.350000  1976.400000  3849.882353  3078.000000  1090.800000   \n",
       "2021_10  1350.000000  1497.272727  3107.454545  3465.818182   945.000000   \n",
       "2021_11  1514.454545  1512.000000  2577.272727  4899.272727   648.000000   \n",
       "2021_12  2403.000000  1733.142857  2953.285714  5117.142857   630.000000   \n",
       "\n",
       "kind         なましいたけ         にんじん           ねぎ         はくさい      ほうれんそう  \\\n",
       "2016_1   172.900000   936.225000  1722.600000   955.800000  111.825000   \n",
       "2016_2   181.238095  1068.428571  1517.142857  1144.285714  110.738095   \n",
       "2016_3   167.739130  1206.782609  1742.086957  1580.086957  117.217391   \n",
       "2016_4   159.772727  1691.181818  2133.000000  1470.272727  107.454545   \n",
       "2016_5   159.952381  2008.285714  2489.142857   984.857143   88.190476   \n",
       "...             ...          ...          ...          ...         ...   \n",
       "2021_8     0.000000  1145.475000  1115.100000  1225.800000  165.700000   \n",
       "2021_9   113.625000   940.950000  1532.250000  2143.800000  167.950000   \n",
       "2021_10  112.977273   697.704545  1485.000000   866.454545  101.500000   \n",
       "2021_11  106.500000   967.090909   967.090909   589.090909   76.090909   \n",
       "2021_12  107.880952  1009.928571  1265.142857   657.000000   89.369048   \n",
       "\n",
       "kind            キャベツ          トマト        ピーマン       ミニトマト          レタス  \n",
       "2016_1    669.600000  1890.000000   98.000000  184.975000  2797.200000  \n",
       "2016_2    709.714286  1774.285714  123.071429  211.904762  2967.428571  \n",
       "2016_3    995.478261  1976.869565  105.739130  213.413043  2582.608696  \n",
       "2016_4   1207.636364  1610.181818   73.363636  156.318182  1865.454545  \n",
       "2016_5   1018.285714  1234.285714   65.416667  126.630952  1483.714286  \n",
       "...              ...          ...         ...         ...          ...  \n",
       "2021_8    869.400000  1323.000000   69.700000  123.875000  1368.900000  \n",
       "2021_9   1144.800000  2008.800000   84.900000  211.450000  2748.600000  \n",
       "2021_10   800.181818  1580.727273   57.363636  137.500000  1098.409091  \n",
       "2021_11   687.272727  2160.000000   61.295455  144.068182  1281.272727  \n",
       "2021_12   563.142857  1650.857143   64.904762  143.035714  1923.428571  \n",
       "\n",
       "[72 rows x 15 columns]"
      ]
     },
     "execution_count": 3,
     "metadata": {},
     "output_type": "execute_result"
    }
   ],
   "source": [
    "vis_df = vis_df.copy()\n",
    "vis_df['year'] = vis_df['date']//10000\n",
    "vis_df['month'] = vis_df['date'].apply(lambda x: int(str(x)[4:6]))\n",
    "vis_df.index = pd.to_datetime(vis_df['date'], format='%Y%m%d')\n",
    "vis_df = vis_df.drop(columns='date')\n",
    "vis_df_month = vis_df.groupby(['year', 'month']).mean()\n",
    "\n",
    "vis_df_month.index = ['_'.join([str(x) for x in idx]) for idx in  vis_df_month.index.values]\n",
    "vis_df_month = vis_df_month.fillna(0)\n",
    "vis_df_month"
   ]
  },
  {
   "cell_type": "code",
   "execution_count": 4,
   "metadata": {},
   "outputs": [
    {
     "name": "stdout",
     "output_type": "stream",
     "text": [
      "かぼちゃ\n"
     ]
    },
    {
     "data": {
      "text/plain": [
       "count    0.0\n",
       "mean     NaN\n",
       "std      NaN\n",
       "min      NaN\n",
       "25%      NaN\n",
       "50%      NaN\n",
       "75%      NaN\n",
       "max      NaN\n",
       "dtype: float64"
      ]
     },
     "metadata": {},
     "output_type": "display_data"
    },
    {
     "name": "stdout",
     "output_type": "stream",
     "text": [
      "きゅうり\n"
     ]
    },
    {
     "data": {
      "text/plain": [
       "count    1546.000000\n",
       "mean        0.179713\n",
       "std         0.252544\n",
       "min         0.000024\n",
       "25%         0.020350\n",
       "50%         0.071782\n",
       "75%         0.217576\n",
       "max         1.480951\n",
       "dtype: float64"
      ]
     },
     "metadata": {},
     "output_type": "display_data"
    },
    {
     "name": "stdout",
     "output_type": "stream",
     "text": [
      "さといも\n"
     ]
    },
    {
     "data": {
      "text/plain": [
       "count    0.0\n",
       "mean     NaN\n",
       "std      NaN\n",
       "min      NaN\n",
       "25%      NaN\n",
       "50%      NaN\n",
       "75%      NaN\n",
       "max      NaN\n",
       "dtype: float64"
      ]
     },
     "metadata": {},
     "output_type": "display_data"
    },
    {
     "name": "stdout",
     "output_type": "stream",
     "text": [
      "たまねぎ\n"
     ]
    },
    {
     "data": {
      "text/plain": [
       "count    0.0\n",
       "mean     NaN\n",
       "std      NaN\n",
       "min      NaN\n",
       "25%      NaN\n",
       "50%      NaN\n",
       "75%      NaN\n",
       "max      NaN\n",
       "dtype: float64"
      ]
     },
     "metadata": {},
     "output_type": "display_data"
    },
    {
     "name": "stdout",
     "output_type": "stream",
     "text": [
      "だいこん\n"
     ]
    },
    {
     "data": {
      "text/plain": [
       "count    1546.000000\n",
       "mean        0.137101\n",
       "std         0.194335\n",
       "min         0.000021\n",
       "25%         0.009837\n",
       "50%         0.041271\n",
       "75%         0.223355\n",
       "max         1.367197\n",
       "dtype: float64"
      ]
     },
     "metadata": {},
     "output_type": "display_data"
    },
    {
     "name": "stdout",
     "output_type": "stream",
     "text": [
      "なましいたけ\n"
     ]
    },
    {
     "data": {
      "text/plain": [
       "count    0.0\n",
       "mean     NaN\n",
       "std      NaN\n",
       "min      NaN\n",
       "25%      NaN\n",
       "50%      NaN\n",
       "75%      NaN\n",
       "max      NaN\n",
       "dtype: float64"
      ]
     },
     "metadata": {},
     "output_type": "display_data"
    },
    {
     "name": "stdout",
     "output_type": "stream",
     "text": [
      "にんじん\n"
     ]
    },
    {
     "data": {
      "text/plain": [
       "count    1546.000000\n",
       "mean        0.197510\n",
       "std         0.338495\n",
       "min         0.000087\n",
       "25%         0.015492\n",
       "50%         0.054277\n",
       "75%         0.232784\n",
       "max         2.522335\n",
       "dtype: float64"
      ]
     },
     "metadata": {},
     "output_type": "display_data"
    },
    {
     "name": "stdout",
     "output_type": "stream",
     "text": [
      "ねぎ\n"
     ]
    },
    {
     "data": {
      "text/plain": [
       "count    1546.000000\n",
       "mean        0.161033\n",
       "std         0.259343\n",
       "min         0.000020\n",
       "25%         0.012531\n",
       "50%         0.044094\n",
       "75%         0.201028\n",
       "max         3.979285\n",
       "dtype: float64"
      ]
     },
     "metadata": {},
     "output_type": "display_data"
    },
    {
     "name": "stdout",
     "output_type": "stream",
     "text": [
      "はくさい\n"
     ]
    },
    {
     "data": {
      "text/plain": [
       "count    1546.000000\n",
       "mean        0.228870\n",
       "std         0.365398\n",
       "min         0.000074\n",
       "25%         0.022640\n",
       "50%         0.077982\n",
       "75%         0.302597\n",
       "max         3.975346\n",
       "dtype: float64"
      ]
     },
     "metadata": {},
     "output_type": "display_data"
    },
    {
     "name": "stdout",
     "output_type": "stream",
     "text": [
      "ほうれんそう\n"
     ]
    },
    {
     "data": {
      "text/plain": [
       "count    1546.000000\n",
       "mean        0.194750\n",
       "std         0.288887\n",
       "min         0.000147\n",
       "25%         0.016408\n",
       "50%         0.066940\n",
       "75%         0.276340\n",
       "max         2.221970\n",
       "dtype: float64"
      ]
     },
     "metadata": {},
     "output_type": "display_data"
    },
    {
     "name": "stdout",
     "output_type": "stream",
     "text": [
      "キャベツ\n"
     ]
    },
    {
     "data": {
      "text/plain": [
       "count    1546.000000\n",
       "mean        0.173132\n",
       "std         0.275647\n",
       "min         0.000001\n",
       "25%         0.011066\n",
       "50%         0.042885\n",
       "75%         0.236187\n",
       "max         2.096081\n",
       "dtype: float64"
      ]
     },
     "metadata": {},
     "output_type": "display_data"
    },
    {
     "name": "stdout",
     "output_type": "stream",
     "text": [
      "トマト\n"
     ]
    },
    {
     "data": {
      "text/plain": [
       "count    1546.000000\n",
       "mean        0.213190\n",
       "std         0.359653\n",
       "min         0.000039\n",
       "25%         0.010266\n",
       "50%         0.048108\n",
       "75%         0.270146\n",
       "max         2.016824\n",
       "dtype: float64"
      ]
     },
     "metadata": {},
     "output_type": "display_data"
    },
    {
     "name": "stdout",
     "output_type": "stream",
     "text": [
      "ピーマン\n"
     ]
    },
    {
     "data": {
      "text/plain": [
       "count    1546.000000\n",
       "mean        0.152235\n",
       "std         0.219193\n",
       "min         0.000203\n",
       "25%         0.019972\n",
       "50%         0.055726\n",
       "75%         0.191797\n",
       "max         1.543532\n",
       "dtype: float64"
      ]
     },
     "metadata": {},
     "output_type": "display_data"
    },
    {
     "name": "stdout",
     "output_type": "stream",
     "text": [
      "ミニトマト\n"
     ]
    },
    {
     "data": {
      "text/plain": [
       "count    1546.000000\n",
       "mean        0.148492\n",
       "std         0.221022\n",
       "min         0.000061\n",
       "25%         0.014290\n",
       "50%         0.051469\n",
       "75%         0.186258\n",
       "max         1.544489\n",
       "dtype: float64"
      ]
     },
     "metadata": {},
     "output_type": "display_data"
    },
    {
     "name": "stdout",
     "output_type": "stream",
     "text": [
      "レタス\n"
     ]
    },
    {
     "data": {
      "text/plain": [
       "count    1546.000000\n",
       "mean        0.252883\n",
       "std         0.367596\n",
       "min         0.000005\n",
       "25%         0.025132\n",
       "50%         0.084444\n",
       "75%         0.324735\n",
       "max         2.616177\n",
       "dtype: float64"
      ]
     },
     "metadata": {},
     "output_type": "display_data"
    }
   ],
   "source": [
    "from statsmodels.tsa.seasonal import STL \n",
    "\n",
    "# df = df.query(\"year == 2017 or year == 2018\" )\n",
    "for col in vis_df_month.columns:\n",
    "    print(col)\n",
    "    #STL分解\n",
    "    # stl=STL(vis_df_month[col], period=12, robust=True)\n",
    "    stl=STL(vis_df[col], period=365, robust=True)\n",
    "\n",
    "    stl_series = stl.fit()\n",
    "\n",
    "    # STL分解結果のグラフ化\n",
    "    # stl_series.plot()\n",
    "    # plt.show()\n",
    "\n",
    "    # STL分解結果のデータ\n",
    "    stl_o = stl_series.observed #観測データ（STL分解前の元のデータ）＝トレンド＋季節性＋残差\n",
    "    stl_t = stl_series.trend    #トレンド（trend）\n",
    "    stl_s = stl_series.seasonal #季節性（seasonal）\n",
    "    stl_r = stl_series.resid    #残差（resid）\n",
    "\n",
    "    stl_r = pd.DataFrame(stl_r)\n",
    "    # stl_r['month'] = stl_r.index.map(lambda x: x.split('_')[-1])\n",
    "    rmsl = stl_r['resid'].abs() / stl_o\n",
    "    # display(rmsl)\n",
    "    display(rmsl.describe())\n",
    "    # rmsl.plot()\n",
    "    # plt.show()\n",
    "    # display(stl_r.query(\"month == '11'\"))\n",
    "\n",
    "\n",
    "\n",
    "#     stl_t.plot()                                       #トレンド（trend）のグラフ描写\n",
    "#     stl_s.plot()                                       #季節性（season）のグラフ描写\n",
    "#     stl_r.plot()                                       #残差（resid）のグラフ描写\n",
    "#     plt.title('Passengers')                            #グラフタイトル\n",
    "#     plt.ylabel('Monthly Number of Airline Passengers') #タテ軸のラベル\n",
    "#     plt.xlabel('Month')                                #ヨコ軸のラベル\n",
    "#     plt.legend()                                       #凡例表示\n",
    "    plt.show()"
   ]
  },
  {
   "cell_type": "code",
   "execution_count": null,
   "metadata": {},
   "outputs": [],
   "source": []
  }
 ],
 "metadata": {
  "colab": {
   "provenance": []
  },
  "environment": {
   "kernel": "python3",
   "name": "common-cpu.m95",
   "type": "gcloud",
   "uri": "gcr.io/deeplearning-platform-release/base-cpu:m95"
  },
  "kernelspec": {
   "display_name": ".venv",
   "language": "python",
   "name": "python3"
  },
  "language_info": {
   "codemirror_mode": {
    "name": "ipython",
    "version": 3
   },
   "file_extension": ".py",
   "mimetype": "text/x-python",
   "name": "python",
   "nbconvert_exporter": "python",
   "pygments_lexer": "ipython3",
   "version": "3.10.5"
  },
  "vscode": {
   "interpreter": {
    "hash": "06c8bcbdc82ba2793c3322916615d047453e15c8ab90db21835c7db08c860eff"
   }
  }
 },
 "nbformat": 4,
 "nbformat_minor": 4
}
